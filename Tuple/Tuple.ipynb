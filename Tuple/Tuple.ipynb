{
  "nbformat": 4,
  "nbformat_minor": 0,
  "metadata": {
    "colab": {
      "name": "Tuple.ipynb",
      "provenance": [],
      "collapsed_sections": [],
      "authorship_tag": "ABX9TyPJyHnheBpWJLU7X5JcAp+R",
      "include_colab_link": true
    },
    "kernelspec": {
      "name": "python3",
      "display_name": "Python 3"
    }
  },
  "cells": [
    {
      "cell_type": "markdown",
      "metadata": {
        "id": "view-in-github",
        "colab_type": "text"
      },
      "source": [
        "<a href=\"https://colab.research.google.com/github/soline013/Python/blob/master/Tuple/Tuple.ipynb\" target=\"_parent\"><img src=\"https://colab.research.google.com/assets/colab-badge.svg\" alt=\"Open In Colab\"/></a>"
      ]
    },
    {
      "cell_type": "code",
      "metadata": {
        "id": "1ZcGZOZnMDQy"
      },
      "source": [
        "x = ('Hello', 'I', 'am', 'Sollie')"
      ],
      "execution_count": null,
      "outputs": []
    },
    {
      "cell_type": "code",
      "metadata": {
        "id": "KmRjsZtwMRYd",
        "colab": {
          "base_uri": "https://localhost:8080/"
        },
        "outputId": "35120f55-085c-4458-87f7-14b20b65281f"
      },
      "source": [
        "(x, y) = (0, 'zero')\n",
        "print(x)\n",
        "print(y)"
      ],
      "execution_count": null,
      "outputs": [
        {
          "output_type": "stream",
          "text": [
            "0\n",
            "zero\n"
          ],
          "name": "stdout"
        }
      ]
    },
    {
      "cell_type": "code",
      "metadata": {
        "id": "zjD1-rwvNsca",
        "colab": {
          "base_uri": "https://localhost:8080/"
        },
        "outputId": "80554c4f-49b0-4b84-f695-60b6b7c85637"
      },
      "source": [
        "a, b = 1, 'one'\n",
        "print(a, b)"
      ],
      "execution_count": null,
      "outputs": [
        {
          "output_type": "stream",
          "text": [
            "1 one\n"
          ],
          "name": "stdout"
        }
      ]
    },
    {
      "cell_type": "code",
      "metadata": {
        "colab": {
          "base_uri": "https://localhost:8080/"
        },
        "id": "wojQ7U4qN8H1",
        "outputId": "1d81e6cc-e3fa-4df2-e653-0e850094da67"
      },
      "source": [
        "d = dict()\n",
        "d['first'] = 0\n",
        "d['second'] = 1\n",
        "\n",
        "for (i, j) in d.items(): \n",
        "    print(i, j)\n",
        "\n",
        "p = d.items()\n",
        "print(p)"
      ],
      "execution_count": null,
      "outputs": [
        {
          "output_type": "stream",
          "text": [
            "first 0\n",
            "second 1\n",
            "dict_items([('first', 0), ('second', 1)])\n"
          ],
          "name": "stdout"
        }
      ]
    },
    {
      "cell_type": "code",
      "metadata": {
        "colab": {
          "base_uri": "https://localhost:8080/"
        },
        "id": "eyINlK7dRDqL",
        "outputId": "0ed31c1a-f846-4d33-da62-561b991c7938"
      },
      "source": [
        "(0, 1, 2) < (0, 1, 3)"
      ],
      "execution_count": null,
      "outputs": [
        {
          "output_type": "execute_result",
          "data": {
            "text/plain": [
              "True"
            ]
          },
          "metadata": {
            "tags": []
          },
          "execution_count": 9
        }
      ]
    },
    {
      "cell_type": "code",
      "metadata": {
        "colab": {
          "base_uri": "https://localhost:8080/"
        },
        "id": "bbZKSxu0VWlg",
        "outputId": "40909af5-d62c-46a5-fd6c-af7578833a31"
      },
      "source": [
        "(100, 1, 2) > (0, 100, 200)"
      ],
      "execution_count": null,
      "outputs": [
        {
          "output_type": "execute_result",
          "data": {
            "text/plain": [
              "True"
            ]
          },
          "metadata": {
            "tags": []
          },
          "execution_count": 13
        }
      ]
    },
    {
      "cell_type": "code",
      "metadata": {
        "id": "1tbBRn9HVgue"
      },
      "source": [
        ""
      ],
      "execution_count": null,
      "outputs": []
    }
  ]
}